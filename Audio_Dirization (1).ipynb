{
  "cells": [
    {
      "cell_type": "code",
      "execution_count": 3,
      "metadata": {
        "colab": {
          "base_uri": "https://localhost:8080/"
        },
        "id": "5MIGhfJDDmjs",
        "outputId": "0871abac-8c68-40a0-f7cf-000ebac50605"
      },
      "outputs": [
        {
          "output_type": "stream",
          "name": "stdout",
          "text": [
            "  Installing build dependencies ... \u001b[?25l\u001b[?25hdone\n",
            "  Getting requirements to build wheel ... \u001b[?25l\u001b[?25hdone\n",
            "  Preparing metadata (pyproject.toml) ... \u001b[?25l\u001b[?25hdone\n"
          ]
        }
      ],
      "source": [
        "!pip install --q git+https://github.com/m-bain/whisperx.git"
      ]
    },
    {
      "cell_type": "code",
      "execution_count": 2,
      "metadata": {
        "id": "dkU2scswDz9i",
        "colab": {
          "base_uri": "https://localhost:8080/"
        },
        "outputId": "f2bfca7e-8683-4fa3-dd7b-2f81bb40fdde"
      },
      "outputs": [
        {
          "output_type": "stream",
          "name": "stderr",
          "text": [
            "DEBUG:speechbrain.utils.checkpoints:Registered checkpoint save hook for _speechbrain_save\n",
            "DEBUG:speechbrain.utils.checkpoints:Registered checkpoint load hook for _speechbrain_load\n",
            "DEBUG:speechbrain.utils.checkpoints:Registered checkpoint save hook for save\n",
            "DEBUG:speechbrain.utils.checkpoints:Registered checkpoint load hook for load\n",
            "DEBUG:speechbrain.utils.checkpoints:Registered checkpoint save hook for _save\n",
            "DEBUG:speechbrain.utils.checkpoints:Registered checkpoint load hook for _recover\n"
          ]
        }
      ],
      "source": [
        "import whisperx\n",
        "import gc"
      ]
    },
    {
      "cell_type": "code",
      "execution_count": 7,
      "metadata": {
        "id": "jjrL_TX7EEC7"
      },
      "outputs": [],
      "source": [
        "device = \"cuda\"\n",
        "batch_size = 4\n",
        "compute_type = \"float16\""
      ]
    },
    {
      "cell_type": "code",
      "execution_count": 8,
      "metadata": {
        "id": "J4FaMj2ID19t"
      },
      "outputs": [],
      "source": [
        "diarize_model = whisperx.DiarizationPipeline(use_auth_token=\"HF_TOKEN\",\n",
        "                                             device=device)"
      ]
    },
    {
      "cell_type": "code",
      "execution_count": 9,
      "metadata": {
        "id": "8nLsJ702EM_t"
      },
      "outputs": [],
      "source": [
        "audio_file = \"videoplayback.wav\""
      ]
    },
    {
      "cell_type": "code",
      "execution_count": 10,
      "metadata": {
        "id": "ouu2zIqiHCXG"
      },
      "outputs": [],
      "source": [
        "audio = whisperx.load_audio(audio_file)"
      ]
    },
    {
      "cell_type": "code",
      "execution_count": 11,
      "metadata": {
        "colab": {
          "base_uri": "https://localhost:8080/"
        },
        "id": "NOfHaeEGD6mO",
        "outputId": "6274cb01-a690-412c-af59-6a7e9ce8e7de"
      },
      "outputs": [
        {
          "output_type": "stream",
          "name": "stderr",
          "text": [
            "/usr/local/lib/python3.11/dist-packages/pyannote/audio/utils/reproducibility.py:74: ReproducibilityWarning: TensorFloat-32 (TF32) has been disabled as it might lead to reproducibility issues and lower accuracy.\n",
            "It can be re-enabled by calling\n",
            "   >>> import torch\n",
            "   >>> torch.backends.cuda.matmul.allow_tf32 = True\n",
            "   >>> torch.backends.cudnn.allow_tf32 = True\n",
            "See https://github.com/pyannote/pyannote-audio/issues/1370 for more details.\n",
            "\n",
            "  warnings.warn(\n",
            "/usr/local/lib/python3.11/dist-packages/pyannote/audio/models/blocks/pooling.py:104: UserWarning: std(): degrees of freedom is <= 0. Correction should be strictly less than the reduction factor (input numel divided by output numel). (Triggered internally at /pytorch/aten/src/ATen/native/ReduceOps.cpp:1831.)\n",
            "  std = sequences.std(dim=-1, correction=1)\n"
          ]
        }
      ],
      "source": [
        "diarize_segments = diarize_model(audio, min_speakers=2, max_speakers=2)"
      ]
    },
    {
      "cell_type": "code",
      "execution_count": 12,
      "metadata": {
        "colab": {
          "base_uri": "https://localhost:8080/"
        },
        "id": "cz23PtHoD-eb",
        "outputId": "605b4fd6-029f-4e3a-e2e9-ef2f32b317f5"
      },
      "outputs": [
        {
          "output_type": "stream",
          "name": "stderr",
          "text": [
            "/usr/local/lib/python3.11/dist-packages/huggingface_hub/utils/_auth.py:94: UserWarning: \n",
            "The secret `HF_TOKEN` does not exist in your Colab secrets.\n",
            "To authenticate with the Hugging Face Hub, create a token in your settings tab (https://huggingface.co/settings/tokens), set it as secret in your Google Colab and restart your session.\n",
            "You will be able to reuse this secret in all of your notebooks.\n",
            "Please note that authentication is recommended but still optional to access public models or datasets.\n",
            "  warnings.warn(\n",
            "INFO:pytorch_lightning.utilities.migration.utils:Lightning automatically upgraded your loaded checkpoint from v1.5.4 to v2.5.1. To apply the upgrade to your files permanently, run `python -m pytorch_lightning.utilities.upgrade_checkpoint ../usr/local/lib/python3.11/dist-packages/whisperx/assets/pytorch_model.bin`\n"
          ]
        },
        {
          "output_type": "stream",
          "name": "stdout",
          "text": [
            "No language specified, language will be first be detected for each audio file (increases inference time).\n",
            ">>Performing voice activity detection using Pyannote...\n",
            "Model was trained with pyannote.audio 0.0.1, yours is 3.3.2. Bad things might happen unless you revert pyannote.audio to 0.x.\n",
            "Model was trained with torch 1.10.0+cu102, yours is 2.6.0+cu124. Bad things might happen unless you revert torch to 1.x.\n"
          ]
        }
      ],
      "source": [
        "model = whisperx.load_model(\"large-v2\", device, compute_type=compute_type)"
      ]
    },
    {
      "cell_type": "code",
      "execution_count": null,
      "metadata": {
        "id": "LJRrUWH0HUq9"
      },
      "outputs": [],
      "source": [
        "result = model.transcribe(audio, batch_size=batch_size)"
      ]
    },
    {
      "cell_type": "code",
      "execution_count": null,
      "metadata": {
        "id": "We4cGIDhH1cL"
      },
      "outputs": [],
      "source": [
        "result = whisperx.assign_word_speakers(diarize_segments, result)"
      ]
    },
    {
      "cell_type": "code",
      "execution_count": null,
      "metadata": {
        "colab": {
          "base_uri": "https://localhost:8080/"
        },
        "id": "IaZPTS61Ie_U",
        "outputId": "16bbb304-17ef-4e0e-9d7e-4089f15b4580"
      },
      "outputs": [
        {
          "data": {
            "text/plain": [
              "{'segments': [{'text': ' एर प्यूरिफायर से फ़र्ख नहीं पड़ता? एर प्यूरिफायर क्या है? एर प्यूरिफायर एक मशीन है, मोटर है, जो हवा को सक करती है, अंदर एर, उसके ही पा फिल्टर्स होते हैं, मुल्टिपल लेयर्स उसके थ्रू पास होती है और वो वापस कर देता है.',\n",
              "   'start': 1.8,\n",
              "   'end': 16.8,\n",
              "   'speaker': 'SPEAKER_00'},\n",
              "  {'text': ' तो इसमें तीन मुद्दे हैं. एक, जो उसकी handling capacity है, वो आपके room size के अनुसार होना चाहिए. जैसे आपका ये studio है, इसमें मैं अगर छोटा सा वो रखा है, उसमें मैं छोटा सा अगर रख दू, उसकी air handling capacity आपके volume से कम है, तो वो कुछ नहीं करेगा. एक. Number two,',\n",
              "   'start': 16.8,\n",
              "   'end': 35.845,\n",
              "   'speaker': 'SPEAKER_00'},\n",
              "  {'text': ' जितने भी windows and doors हैं वो बंद होने चाहिए just like AC अगर आपने AC on करके window और door खोल दिये तो वो बेकार हो जाएगा air purifier भी तब ही काम करेगा जब आपके windows और AC बंद हैं तीसरा यह है उसी व्यक्ति को मदद करेगा और उतनी देर मदद करेगा जितनी देर आप इस कमरे के अंदर है',\n",
              "   'start': 35.845,\n",
              "   'end': 56.613,\n",
              "   'speaker': 'SPEAKER_00'},\n",
              "  {'text': ' आप और मैं इस समय यहां बैठे हैं ठीक है वो air purifier लगा है राज अभी आप ये खतम करके recording हम बाहर जाएंगे तो क्या ये air purifier हमें वहाँ प्रोटेक्ट करेगा नहीं मेरा सवाल है कि क्या 140 करोड जनता अगले 40 साल के लिए अपने आपको air purified rooms में बंद कर सकती है नही',\n",
              "   'start': 58.268,\n",
              "   'end': 83.541,\n",
              "   'speaker': 'SPEAKER_00'},\n",
              "  {'text': ' क्या 140 करोड जनता इसको खरीदना एफोर्ड कर सकती है? नहीं क्या एक बार खरीद के रख देने से ये हमेशा के लिए effective रहता है? नहीं इसका फिल्टर',\n",
              "   'start': 83.541,\n",
              "   'end': 98.643,\n",
              "   'speaker': 'SPEAKER_00'},\n",
              "  {'text': ' चोक होता है, कितना चोक होता है, कितने दुनों में चोक होता है, यह level पर depend करता है, जो दिल्ली में आजकर level है, उसमें शायद तीन या चार महीने में वो काला हो जाएगा, आपको change करना पड़ेगा, क्या हम उतना investment कर सकते हैं, 99% लोग इसको लगा के भूल जाते हैं, और जब',\n",
              "   'start': 98.643,\n",
              "   'end': 122.892,\n",
              "   'speaker': 'SPEAKER_00'},\n",
              "  {'text': ' क्योंकि अंदर आप खोल के देखेंगे तो उसमें इतना कार्बन होता है कि वो सपाई तो करी नहीं सकता. तो कौस्ट इशूज, इफेक्टिवनेस इशूज, ओन्ली विदिन कंफाइंड स्पेश्स, सो',\n",
              "   'start': 122.892,\n",
              "   'end': 135.93,\n",
              "   'speaker': 'SPEAKER_00'},\n",
              "  {'text': ' मुझसे एक तर पूछते हैं, आप कभी रिक्मेंड करते हो? हाँ, मैं रिक्मेंड करता हूँ, मैं लंग ट्रांस्प्लांट सर्जन हूँ, मैं लंग ट्रांस्प्लांट करता हूँ, मेरे पेशन्ट जब ट्रांस्प्लांट कराके घर जाते हैं, तो मेरी टीम जहांपर वो रहन',\n",
              "   'start': 136.357,\n",
              "   'end': 164.428,\n",
              "   'speaker': 'SPEAKER_00'},\n",
              "  {'text': ' उसी तरह से जब लंग सर्जरी कराके मेरे पेशेंट्स घर जाते हैं तो मैं उनको बोलता हूँ जिन पेशेंट्स को COPD, bronchialarsthma, दूसरी बीमारिया हैं या जो old age के लोग हैं जिनको COPD है जिनको pneumonia वगारा का airborne diseases का high chances है',\n",
              "   'start': 164.428,\n",
              "   'end': 182.346,\n",
              "   'speaker': 'SPEAKER_00'},\n",
              "  {'text': ' मैं ये जो सिलेक्टेट पॉपिलेशन है, जो हाई रिस्क है, जिसको अगर इस गंदी हवा से इंफेक्शन हो गया, तो नुखसान होगा, मैं उनको रेकेमेंट करता हूँ। But if you ask me, Dr. Arvind, is air purifier a solution for air pollution? My answer is a big no. Air pollution, Raj, is a public problem.',\n",
              "   'start': 182.346,\n",
              "   'end': 206.698,\n",
              "   'speaker': 'SPEAKER_00'},\n",
              "  {'text': ' वो देश के इस कोणे से उस कोणे तक एक्रॉस तक कंट्री है। एर इस पबलिक प्रॉबलम का एर प्यॉरिफायर जैसा प्राइवेट सलूशन कोई सलूशन नहीं है। पर यह सलूशन एट लार्ज नहीं है। लेकिन जो लोग कुछ गिरें चुने लोग अफोर्ड कर सकते ह',\n",
              "   'start': 206.698,\n",
              "   'end': 231.578,\n",
              "   'speaker': 'SPEAKER_00'},\n",
              "  {'text': ' तो आप ज़रूर लगाएगे. मैं भी, in fact, जो लोग थोड़ा सा हेजिटेट भी करते हैं, तो मैं उनको medical grounds पे बोलता हूँ कि भाई आप ये समझ लो ये treatment का एक extension है क्योंकि आप नहीं लगाएंगे और कुछ दिन के बाद आप pneumonia लेके वापस आ गए, तो उसके treatment की cost जादा हो',\n",
              "   'start': 231.578,\n",
              "   'end': 257.295,\n",
              "   'speaker': 'SPEAKER_00'}],\n",
              " 'language': 'hi'}"
            ]
          },
          "execution_count": 42,
          "metadata": {},
          "output_type": "execute_result"
        }
      ],
      "source": [
        "result"
      ]
    },
    {
      "cell_type": "markdown",
      "metadata": {
        "id": "qhTEy2tT_DyV"
      },
      "source": []
    }
  ],
  "metadata": {
    "accelerator": "GPU",
    "colab": {
      "gpuType": "T4",
      "provenance": []
    },
    "kernelspec": {
      "display_name": "Python 3",
      "name": "python3"
    },
    "language_info": {
      "name": "python"
    }
  },
  "nbformat": 4,
  "nbformat_minor": 0
}